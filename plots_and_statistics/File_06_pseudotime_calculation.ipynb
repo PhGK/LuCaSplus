{
 "cells": [
  {
   "cell_type": "code",
   "execution_count": null,
   "metadata": {},
   "outputs": [],
   "source": [
    "import scanpy as sc\n",
    "import pandas as pd\n",
    "import numpy as np\n",
    "from tqdm import tqdm\n",
    "import matplotlib.pyplot as plt"
   ]
  },
  {
   "cell_type": "code",
   "execution_count": null,
   "metadata": {},
   "outputs": [],
   "source": [
    "annotated_clusters_FINAL =  pd.read_csv('./use_data/VICREG_clustering_highinputdropout_5000epochs_rev_annotation.csv')\n",
    "all_epithelial_cells = annotated_clusters_FINAL[annotated_clusters_FINAL['Tier_1'] == 'Epithelial cells']\n",
    "annotated_clusters_FINAL\n",
    "\n"
   ]
  },
  {
   "cell_type": "code",
   "execution_count": null,
   "metadata": {},
   "outputs": [],
   "source": [
    "cluster_result = pd.read_parquet('../scGPT_embeddings/clusterings/VICREG_clustering_highinputdropout_5000epochs.parquet')[['id', 'cluster']]\n",
    "cluster_result\n",
    "\n"
   ]
  },
  {
   "cell_type": "code",
   "execution_count": null,
   "metadata": {},
   "outputs": [],
   "source": [
    "embeddings = pd.read_parquet('../scGPT_embeddings/embeddings/VICREG_embedding_highinputdropout_5000epochs.parquet').drop(columns = ['Tier_1', 'Tier_2', 'Tier_3', 'Tier_4'])\n",
    "embeddings = embeddings.merge(cluster_result, left_on = 'id', right_on = 'id')\n",
    "\n",
    "embeddings = embeddings.merge(annotated_clusters_FINAL, left_on = 'cluster', right_on = 'Cluster_ID')\n",
    "embeddings\n",
    "\n"
   ]
  },
  {
   "cell_type": "code",
   "execution_count": null,
   "metadata": {},
   "outputs": [],
   "source": [
    "patients = embeddings['Pseudo'].drop_duplicates().to_numpy()\n",
    "patients\n"
   ]
  },
  {
   "cell_type": "code",
   "execution_count": null,
   "metadata": {},
   "outputs": [],
   "source": [
    "results = []\n",
    "\n",
    "for current_patient in tqdm(patients):\n",
    "    current_embeddings = embeddings[np.isin(embeddings['Pseudo'], current_patient)]\n",
    "\n",
    "\n",
    "    current_embeddings_tumor =  current_embeddings[(current_embeddings['Tier_2'] == 'Tumor')]\n",
    "    current_embeddings_normal =  current_embeddings[(current_embeddings['Tier_2'] == 'Normal epithelial cells')&(current_embeddings['Tier_3'] != 'Tumor')].iloc[:,:]\n",
    "\n",
    "\n",
    "    average_expression = current_embeddings_normal.iloc[:,2:66].mean(axis=0)\n",
    "    current_embeddings_normal = current_embeddings_normal.iloc[:1,:]\n",
    "    current_embeddings_normal.iloc[:,2:66] = average_expression\n",
    "\n",
    "    if current_embeddings_normal.shape[0] == 0:\n",
    "        print('NO NORMAL')\n",
    "        continue\n",
    "\n",
    "    current_embeddings = pd.concat((current_embeddings_normal, current_embeddings_tumor))\n",
    "\n",
    "    adata = sc.AnnData(current_embeddings.iloc[:,2:66])\n",
    "    adata.uns['iroot']  = 0\n",
    "    adata.obs['cell_id'] = np.array(current_embeddings.id)\n",
    "    adata.obs['Pseudo'] = np.array(current_embeddings.Pseudo)\n",
    "    adata.obs['Tier_3'] = np.array(current_embeddings.Tier_3)\n",
    "    adata.obs['cluster'] = np.array(current_embeddings.cluster).astype(str)\n",
    "\n",
    "    sc.pp.pca(adata)\n",
    "    sc.pp.neighbors(adata)  # build the neighborhood graph\n",
    "\n",
    "    sc.tl.diffmap(adata)  # diffusion pseudotime\n",
    "    sc.tl.dpt(adata)  # diffusion pseudotime\n",
    "    sc.tl.umap(adata)  # for visualization\n",
    "\n",
    "\n",
    "    pca_coordinates = pd.DataFrame(adata.obsm['X_umap'], columns = ['UMAP1', 'UMAP2'])\n",
    "\n",
    "    pseudotime = pd.concat((adata.obs[['dpt_pseudotime', 'cell_id', 'Pseudo', 'Tier_3', 'cluster']].reset_index(), pca_coordinates), axis=1)\n",
    "    results.append(pseudotime)\n",
    "\n",
    "\n",
    "        "
   ]
  },
  {
   "cell_type": "code",
   "execution_count": null,
   "metadata": {},
   "outputs": [],
   "source": [
    "all_results = pd.concat(results, axis=0)\n",
    "all_results.to_csv('./use_data/tumor_dpt_new.csv')"
   ]
  },
  {
   "cell_type": "code",
   "execution_count": null,
   "metadata": {},
   "outputs": [],
   "source": [
    "all_results"
   ]
  },
  {
   "cell_type": "code",
   "execution_count": null,
   "metadata": {},
   "outputs": [],
   "source": []
  },
  {
   "cell_type": "code",
   "execution_count": null,
   "metadata": {},
   "outputs": [],
   "source": []
  },
  {
   "cell_type": "code",
   "execution_count": null,
   "metadata": {},
   "outputs": [],
   "source": []
  },
  {
   "cell_type": "code",
   "execution_count": null,
   "metadata": {},
   "outputs": [],
   "source": []
  }
 ],
 "metadata": {
  "kernelspec": {
   "display_name": "gnn",
   "language": "python",
   "name": "python3"
  },
  "language_info": {
   "codemirror_mode": {
    "name": "ipython",
    "version": 3
   },
   "file_extension": ".py",
   "mimetype": "text/x-python",
   "name": "python",
   "nbconvert_exporter": "python",
   "pygments_lexer": "ipython3",
   "version": "3.13.2"
  }
 },
 "nbformat": 4,
 "nbformat_minor": 2
}
